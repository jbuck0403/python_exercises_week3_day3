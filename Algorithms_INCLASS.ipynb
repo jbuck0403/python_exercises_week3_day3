{
 "cells": [
  {
   "cell_type": "markdown",
   "metadata": {},
   "source": [
    "# Algorithms, Binary Search & Linked Lists"
   ]
  },
  {
   "cell_type": "markdown",
   "metadata": {},
   "source": [
    "## Tasks Today:\n",
    " \n",
    "1) <b>In-Place Algorithms</b> <br>\n",
    " &nbsp;&nbsp;&nbsp;&nbsp; a) Syntax <br>\n",
    " &nbsp;&nbsp;&nbsp;&nbsp; a) Out of Place Algorithm <br>\n",
    " &nbsp;&nbsp;&nbsp;&nbsp; b) In-Class Exercise #1 <br>\n",
    "2) <b>Two Pointers</b> <br>\n",
    "3) <b>Linked Lists</b> <br>\n",
    "4) <b>Merge Sort</b> <br>\n",
    " &nbsp;&nbsp;&nbsp;&nbsp; a) Video on Algorithms <br>\n",
    " &nbsp;&nbsp;&nbsp;&nbsp; b) How it Works <br>\n",
    "5) <b>Exercises</b> <br>\n",
    " &nbsp;&nbsp;&nbsp;&nbsp; a) Exercise #1 - Reverse a List in Place Using an In-Place Algorithm <br>\n",
    " &nbsp;&nbsp;&nbsp;&nbsp; b) Exercise #2 - Find Distinct Words <br>\n",
    " &nbsp;&nbsp;&nbsp;&nbsp; c) Exercise #3 - Write a program to implement a Linear Search Algorithm. <br>"
   ]
  },
  {
   "cell_type": "markdown",
   "metadata": {},
   "source": [
    "## In-Place Algorithms"
   ]
  },
  {
   "cell_type": "markdown",
   "metadata": {},
   "source": [
    "#### Syntax"
   ]
  },
  {
   "cell_type": "code",
   "execution_count": 5,
   "metadata": {},
   "outputs": [
    {
     "name": "stdout",
     "output_type": "stream",
     "text": [
      "1524677452224\n",
      "1524677452224\n",
      "[2, 3, 1]\n"
     ]
    }
   ],
   "source": [
    "#inplace is an algo that modifies the original variable in its place in memory (.sort())\n",
    "def swap(arr,x,y,z):\n",
    "    arr[x], arr[y], arr[z] = arr[y], arr[z], arr[x]\n",
    "\n",
    "arr = [1,2,3]\n",
    "print(id(arr))\n",
    "swap(arr, 0,1,2)\n",
    "print(id(arr))\n",
    "print(arr)\n",
    "\n"
   ]
  },
  {
   "cell_type": "markdown",
   "metadata": {},
   "source": [
    "#### Out of Place Algorithm"
   ]
  },
  {
   "cell_type": "code",
   "execution_count": 16,
   "metadata": {},
   "outputs": [
    {
     "name": "stdout",
     "output_type": "stream",
     "text": [
      "1524677452480\n",
      "[3, 2, 1]\n",
      "1524677415296\n"
     ]
    }
   ],
   "source": [
    "#outofplace is an algo that creates and modifies a copy of the variable in a new place in memory (does not modify the original) - must be assigned to a new variable (sorted())\n",
    "def outSwap(arr):\n",
    "    output = []\n",
    "    for e in arr[::-1]:\n",
    "        output.append(e)\n",
    "    return output\n",
    "\n",
    "arr = [1,2,3]\n",
    "print(id(arr))\n",
    "\n",
    "arr = outSwap(arr)\n",
    "print(arr)\n",
    "print(id(arr))"
   ]
  },
  {
   "cell_type": "markdown",
   "metadata": {},
   "source": [
    "#### In-Class Exercise #1 <br>\n",
    "<p>Write a function that takes in four arguments (list, index1, index2, index3), and swaps those three positions in the list passed in.</p>"
   ]
  },
  {
   "cell_type": "code",
   "execution_count": 7,
   "metadata": {},
   "outputs": [
    {
     "name": "stdout",
     "output_type": "stream",
     "text": [
      "[10, 4, 4, 8, 6, 2, 3]\n"
     ]
    }
   ],
   "source": [
    "l_1 = [10, 4, 3, 8, 4, 2, 6]\n",
    "\n",
    "def swap(arr,x,y,z):\n",
    "    arr[x], arr[y], arr[z] = arr[y], arr[z], arr[x]\n",
    "\n",
    "swap(l_1, 2,4,6)\n",
    "print(l_1)\n"
   ]
  },
  {
   "cell_type": "markdown",
   "metadata": {},
   "source": [
    "## Two Pointers"
   ]
  },
  {
   "cell_type": "markdown",
   "metadata": {},
   "source": [
    "#### Syntax"
   ]
  },
  {
   "cell_type": "code",
   "execution_count": 17,
   "metadata": {},
   "outputs": [
    {
     "name": "stdout",
     "output_type": "stream",
     "text": [
      "[1, 2, 3, 4, 5, 6]\n",
      "[6, 5, 4, 3, 2, 1]\n"
     ]
    }
   ],
   "source": [
    "# an algo that keeps track mof two indicese (two pointers)\n",
    "arr = [1,2,3,4,5,6]\n",
    "\n",
    "def twoPSwap(arr):\n",
    "    first = 0\n",
    "    second = len(arr) - 1\n",
    "\n",
    "    while first < second:\n",
    "        arr[first], arr[second] = arr[second], arr[first]\n",
    "        first += 1\n",
    "        second -= 1\n",
    "\n",
    "print(arr)\n",
    "twoPSwap(arr)\n",
    "print(arr)"
   ]
  },
  {
   "cell_type": "markdown",
   "metadata": {},
   "source": [
    "#### Video of Algorithms <br>\n",
    "<p>Watch the video about algorithms.</p>\n",
    "\n",
    "https://www.youtube.com/watch?v=Q9HjeFD62Uk\n",
    "\n",
    "https://www.youtube.com/watch?v=kPRA0W1kECg\n",
    "\n",
    "https://www.youtube.com/watch?v=ZZuD6iUe3Pc"
   ]
  },
  {
   "cell_type": "markdown",
   "metadata": {},
   "source": [
    "# Sorting Algorithms"
   ]
  },
  {
   "cell_type": "markdown",
   "metadata": {},
   "source": [
    "#### Bubble Sort\n",
    "\n",
    "Worst Case: O(n^2) Time - O(1) Space"
   ]
  },
  {
   "cell_type": "code",
   "execution_count": 27,
   "metadata": {},
   "outputs": [
    {
     "name": "stdout",
     "output_type": "stream",
     "text": [
      "[3, 2, 5, 1, 10, 4]\n",
      "[2, 3, 5, 1, 10, 4]\n",
      "[2, 3, 1, 5, 10, 4]\n",
      "[2, 3, 1, 5, 4, 10]\n",
      "[2, 1, 3, 5, 4, 10]\n",
      "[2, 1, 3, 4, 5, 10]\n",
      "[1, 2, 3, 4, 5, 10]\n"
     ]
    }
   ],
   "source": [
    "def bubbleSort(arr):\n",
    "    def swap(arr, x, y):\n",
    "        arr[x], arr[y] = arr[y], arr[x]\n",
    "    \n",
    "    isSorted = False\n",
    "    while not isSorted:\n",
    "        isSorted = True\n",
    "        for idx, num in enumerate(arr):\n",
    "            try:\n",
    "                if num > arr[idx + 1]:\n",
    "                    swap(arr, idx, idx + 1)\n",
    "                    print(arr)\n",
    "                    isSorted = False\n",
    "            except:\n",
    "                break\n",
    "\n",
    "arr = [3,2,5,1,10,4]\n",
    "print(arr)\n",
    "bubbleSort(arr)\n"
   ]
  },
  {
   "cell_type": "markdown",
   "metadata": {},
   "source": [
    "##### Insertion Sort\n",
    "\n",
    "Worst Case: O(n^2) time - O(1)space"
   ]
  },
  {
   "cell_type": "code",
   "execution_count": 33,
   "metadata": {},
   "outputs": [
    {
     "name": "stdout",
     "output_type": "stream",
     "text": [
      "[3, 2, 5, 1, 10, 4]\n",
      "[2, 3, 5, 1, 10, 4]\n",
      "[2, 3, 1, 5, 10, 4]\n",
      "[2, 1, 3, 5, 10, 4]\n",
      "[1, 2, 3, 5, 10, 4]\n",
      "[1, 2, 3, 5, 4, 10]\n",
      "[1, 2, 3, 4, 5, 10]\n",
      "[1, 2, 3, 4, 5, 10]\n"
     ]
    }
   ],
   "source": [
    "def insertionSort(arr):\n",
    "    def swap(arr, x, y):\n",
    "        arr[x], arr[y] = arr[y], arr[x]\n",
    "\n",
    "    for idx, num in enumerate(arr):\n",
    "        while idx > 0 and num < arr[idx - 1]:\n",
    "            swap(arr, idx, idx - 1)\n",
    "            print(arr)\n",
    "            idx -= 1\n",
    "\n",
    "arr = [3,2,5,1,10,4]\n",
    "print(arr)\n",
    "insertionSort(arr)\n",
    "print(arr)\n",
    "    "
   ]
  },
  {
   "cell_type": "markdown",
   "metadata": {},
   "source": [
    "## Merge Sort"
   ]
  },
  {
   "cell_type": "markdown",
   "metadata": {},
   "source": [
    "#### How it Works"
   ]
  },
  {
   "cell_type": "code",
   "execution_count": 47,
   "metadata": {},
   "outputs": [
    {
     "name": "stdout",
     "output_type": "stream",
     "text": [
      "[3, 2, 5, 1, 10, 4, 19] [3, 20, 8, 55, 23, 32, 0, 1]\n",
      "[3, 2, 5] [1, 10, 4, 19]\n",
      "[3] [2, 5]\n",
      "[2] [5]\n",
      "[2] [5]\n",
      "[3] [2, 5]\n",
      "[1, 10] [4, 19]\n",
      "[1] [10]\n",
      "[1] [10]\n",
      "[4] [19]\n",
      "[4] [19]\n",
      "[1, 10] [4, 19]\n",
      "[2, 3, 5] [1, 4, 10, 19]\n",
      "[3, 20, 8, 55] [23, 32, 0, 1]\n",
      "[3, 20] [8, 55]\n",
      "[3] [20]\n",
      "[3] [20]\n",
      "[8] [55]\n",
      "[8] [55]\n",
      "[3, 20] [8, 55]\n",
      "[23, 32] [0, 1]\n",
      "[23] [32]\n",
      "[23] [32]\n",
      "[0] [1]\n",
      "[0] [1]\n",
      "[23, 32] [0, 1]\n",
      "[3, 8, 20, 55] [0, 1, 23, 32]\n",
      "[1, 2, 3, 4, 5, 10, 19] [0, 1, 3, 8, 20, 23, 32, 55]\n",
      "[0, 1, 1, 2, 3, 3, 4, 5, 8, 10, 19, 20, 23, 32, 55]\n"
     ]
    }
   ],
   "source": [
    "def mergeSort(arr):\n",
    "    def splitList(arr):\n",
    "        middle = len(arr) // 2\n",
    "        firstHalf =  arr[:middle]\n",
    "        secondHalf = arr[middle:]\n",
    "\n",
    "        return firstHalf, secondHalf\n",
    "    \n",
    "    if len(arr) > 1:\n",
    "\n",
    "        firstHalf, secondHalf = splitList(arr)\n",
    "        print(firstHalf, secondHalf)\n",
    "\n",
    "        mergeSort(firstHalf)\n",
    "        mergeSort(secondHalf)\n",
    "\n",
    "        i = 0 # first half index pointer\n",
    "        j = 0 # second half index pointer\n",
    "        k = 0 # main list pointer\n",
    "\n",
    "        # comparing and sorting the elements until one list is empty\n",
    "\n",
    "        while i < len(firstHalf) and j < len(secondHalf):\n",
    "            if firstHalf[i] < secondHalf[j]:\n",
    "                arr[k] = firstHalf[i]\n",
    "                i += 1\n",
    "            else:\n",
    "                arr[k] = secondHalf[j]\n",
    "                j += 1\n",
    "            k += 1\n",
    "\n",
    "        # once a list is empty, fill in from opposite list\n",
    "\n",
    "        while i < len(firstHalf):\n",
    "            arr[k] = firstHalf[i]\n",
    "            i += 1\n",
    "            k += 1\n",
    "        while j < len(secondHalf):\n",
    "            arr[k] = secondHalf[j]\n",
    "            j += 1\n",
    "            k += 1\n",
    "\n",
    "        print(firstHalf, secondHalf)\n",
    "\n",
    "arr = [3,2,5,1,10,4, 19, 3, 20, 8, 55, 23, 32, 0, 1]\n",
    "mergeSort(arr)\n",
    "print(arr)"
   ]
  },
  {
   "cell_type": "markdown",
   "metadata": {},
   "source": [
    "# Binary Search\n",
    "\n",
    "The Binary Search algorithm works by finding the number in the middle of a given array and comparing it to the target. Given that the array is sorted\n",
    "\n",
    "* The worst case run time for this algorithm is `O(log(n))`"
   ]
  },
  {
   "cell_type": "code",
   "execution_count": 57,
   "metadata": {},
   "outputs": [
    {
     "name": "stdout",
     "output_type": "stream",
     "text": [
      "found 8 at index 7\n"
     ]
    }
   ],
   "source": [
    "def binarySearch(arr, target):\n",
    "    left = 0\n",
    "    right = len(arr) - 1\n",
    "\n",
    "    while left <= right:\n",
    "        middle = (left + right) // 2\n",
    "        guess = arr[middle]\n",
    "        if target == guess:\n",
    "            return f\"found {target} at index {middle}\"\n",
    "        elif target > guess:\n",
    "            left = middle + 1\n",
    "        else:\n",
    "            right = middle - 1\n",
    "\n",
    "    return f\"{target} not in list\\n{arr}\"\n",
    "\n",
    "print(binarySearch([1,2,3,4,5,6,7,8,22,45,64, 78, 90, 1000], 8))"
   ]
  },
  {
   "cell_type": "markdown",
   "metadata": {},
   "source": [
    "# Exercises"
   ]
  },
  {
   "cell_type": "markdown",
   "metadata": {},
   "source": [
    "### Exercise #1 <br>\n",
    "<p>Reverse the list below in-place using an in-place algorithm.<br>For extra credit: Reverse the strings at the same time.</p>"
   ]
  },
  {
   "cell_type": "code",
   "execution_count": 56,
   "metadata": {},
   "outputs": [
    {
     "name": "stdout",
     "output_type": "stream",
     "text": [
      "2505755660800 ['this', 'is', 'a', 'sentence', '.']\n",
      "2505755660800 ['.', 'ecnetnes', 'a', 'si', 'siht']\n"
     ]
    }
   ],
   "source": [
    "words = ['this', 'is', 'a', 'sentence', '.']\n",
    "\n",
    "def doubleReverse(arr, r = False):\n",
    "    def twoPSwap(arr):\n",
    "        first, second = 0, len(arr) - 1\n",
    "\n",
    "        while first < second:\n",
    "            arr[first], arr[second] = arr[second], arr[first]\n",
    "            first += 1\n",
    "            second -= 1\n",
    "\n",
    "        if r:\n",
    "            return arr\n",
    "\n",
    "    for idx in range(0, len(arr) - 1):\n",
    "        arr[idx] = arr[idx][::-1]\n",
    "        \n",
    "    return twoPSwap(arr)\n",
    "\n",
    "\n",
    "print(id(words), words)\n",
    "doubleReverse(words)\n",
    "print(id(words), words)"
   ]
  },
  {
   "cell_type": "markdown",
   "metadata": {},
   "source": [
    "### Exercise #2 <br>\n",
    "<p>Create a function that counts how many distinct words are in the string below, then outputs a dictionary with the words as the key and the value as the amount of times that word appears in the string.<br>Should output:<br>{'a': 5,<br>\n",
    " 'abstract': 1,<br>\n",
    " 'an': 3,<br>\n",
    " 'array': 2, ... etc...</p>"
   ]
  },
  {
   "cell_type": "code",
   "execution_count": 111,
   "metadata": {},
   "outputs": [
    {
     "name": "stdout",
     "output_type": "stream",
     "text": [
      "5\ta\n",
      "1\tabstract\n",
      "3\tan\n",
      "2\tarray\n",
      "1\tassociative\n",
      "1\tbe\n",
      "1\tbuckets\n",
      "2\tcan\n",
      "1\tcompute\n",
      "1\tcomputing\n",
      "2\tdata\n",
      "1\tdesired\n",
      "1\tfound\n",
      "1\tfrom\n",
      "1\tfunction\n",
      "4\thash\n",
      "1\timplements\n",
      "1\tin\n",
      "1\tindex\n",
      "1\tinto\n",
      "1\tis\n",
      "1\tkeys\n",
      "2\tmap\n",
      "1\tof\n",
      "1\tor\n",
      "1\tslots\n",
      "2\tstructure\n",
      "2\ttable\n",
      "1\tthat\n",
      "1\tthe\n",
      "2\tto\n",
      "1\ttype\n",
      "1\tuses\n",
      "1\tvalue\n",
      "1\tvalues\n",
      "2\twhich\n"
     ]
    }
   ],
   "source": [
    "import re\n",
    "\n",
    "# count words as though all are lowercase - 'A' and 'a' are the same word\n",
    "# extra credit: ignore punctuation\n",
    "a_text = 'In computing, a hash table hash map is a data structure which implements an associative array abstract data type, a structure that can map keys to values. A hash table uses a hash function to compute an index into an array of buckets or slots from which the desired value can be found'\n",
    "\n",
    "def wordCloud(arr):\n",
    "    words = re.compile(r'\\b\\w+\\b')\n",
    "    cleanWords = words.findall(arr.lower())\n",
    "\n",
    "    distinct = {}\n",
    "    for word in cleanWords:\n",
    "        if word in distinct:\n",
    "            distinct[word] += 1\n",
    "        else:\n",
    "            distinct[word] = 1\n",
    "        \n",
    "    return distinct\n",
    "\n",
    "for k, v in sorted(wordCloud(a_text).items(), key=lambda x: x[0]):\n",
    "    print(f\"{v}\\t{k}\")"
   ]
  },
  {
   "cell_type": "markdown",
   "metadata": {},
   "source": [
    "## Exercise #3\n",
    "\n",
    "Write a program to implement a Linear Search Algorithm. Also in a comment, write the Time Complexity of the following algorithm.\n",
    "\n",
    "#### Hint: Linear Searching will require searching a list for a given number. "
   ]
  },
  {
   "cell_type": "code",
   "execution_count": 109,
   "metadata": {},
   "outputs": [
    {
     "name": "stdout",
     "output_type": "stream",
     "text": [
      "1\tfound at index 6\n",
      "2\tfound at index 13\n",
      "3\tfound at index 9\n",
      "4\tfound at index 2\n",
      "5\tfound at index 0\n",
      "6\tfound at index 5\n",
      "7\tfound at index 7\n",
      "8\tfound at index 8\n",
      "22\tfound at index 4\n",
      "45\tfound at index 1\n",
      "64\tfound at index 10\n",
      "78\tfound at index 12\n",
      "90\tfound at index 11\n",
      "1000\tfound at index 3\n",
      "[5, 45, 4, 1000, 22, 6, 1, 7, 8, 3, 64, 90, 78, 2]\n"
     ]
    }
   ],
   "source": [
    "import random\n",
    "\n",
    "arr = [1,2,3,4,5,6,7,8,22,45,64,78,90,1000]\n",
    "\n",
    "# time complexity O(n)\n",
    "def linearSearch(arr, target):\n",
    "    for idx, num in enumerate(arr):\n",
    "        if num == target:\n",
    "            return f\"{target}\\tfound at index {idx}\"\n",
    "    return f\"{target}\\tnot in list\\n{arr}\"\n",
    "\n",
    "\n",
    "testArr = arr[:]\n",
    "random.shuffle(testArr)\n",
    "for numToSearch in arr:\n",
    "    print(linearSearch(testArr, numToSearch))\n",
    "\n",
    "print(testArr)\n",
    "\n"
   ]
  }
 ],
 "metadata": {
  "kernelspec": {
   "display_name": "Python 3",
   "language": "python",
   "name": "python3"
  },
  "language_info": {
   "codemirror_mode": {
    "name": "ipython",
    "version": 3
   },
   "file_extension": ".py",
   "mimetype": "text/x-python",
   "name": "python",
   "nbconvert_exporter": "python",
   "pygments_lexer": "ipython3",
   "version": "3.11.4"
  }
 },
 "nbformat": 4,
 "nbformat_minor": 2
}
